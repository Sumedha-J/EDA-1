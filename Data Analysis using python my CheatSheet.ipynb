{
 "cells": [
  {
   "cell_type": "code",
   "execution_count": null,
   "id": "1e3eba8a",
   "metadata": {},
   "outputs": [],
   "source": [
    "#dataframe\n",
    "\n",
    "df['abc'].count()\n",
    "df[['col1','col10']].head(10) #to view data from multiple columns\n",
    "df[df['abc']=='fruit']\n",
    "df['abc'].mean()\n",
    "df.loc[:,'abc'] # Selecting rows and columns by labels\n",
    "df.iloc[:,:5] # Selecting rows and columns by integer position\n",
    "df['abc'].dt.day #you can assign this to a new column or if you want you can print eg: print(\"Date\",data[\"pickup_datetime\"].dt.day.sort_values().unique())\n",
    "df['abc'].dt.month\n",
    "df['abc'].dt.year\n",
    "df['abc'].dt.time\n",
    "df['abc'].dt.hour\n",
    "df['abc'].dt.day_name() #will give name of weekdays like sunday,monday\n",
    "df['abc'].dt.strftime('%Y-%m') #dt.strftime('%Y-%m-%d %H:%M:%S') you can give format as you want to\n",
    "df['abc'] #accessing 1 column in dataframe\n",
    "df[['abc','def']] #accessing multiple columns in dataframe\n",
    "df1=df[['col1','col2','col3','col4']] #if you want to use columns of a df to another df use [[]] [[]] means df, [] means series\n",
    "df.sort_values(by='abc')[:5]\n",
    "df.describe() #(include='all') , you can also transpose result df.describe().t\n",
    "df.duplicated() #this returns boolean series it considers all columns when identifying duplicates\n",
    "df.duplicated().sum() #this returns no of rows which have duplicate values\n",
    "df.duplicated(subset='colname') #if you specify a colum then it will find duplicate values only for the column not in entire df columns\n",
    "df.shape[0/1] or df.shape\n",
    "df['abc'].index.tolist() #or to_list() this will give list of values\n",
    "df['abc'].values.tolist()\n",
    "df.set_index('colname') #if you have to set index as a specific column then use this method\n",
    "df['colname'].idxmax() #to get maximum index value of column similarly for min idxmin\n",
    "pd.DataFrame(['col1'])\n",
    "print(df.skew()) #to check if data is skewed for age \n",
    "df=pd.read_csv() #if month is like this in csv 1949-01 then you can add parse_dates=['Month'] output will be 1949-01-01\n",
    "df=pd.read_excel() #header=0 or 1 etc based on which row is your header. \n",
    "df.nlargest(5,'colname') #to show 5 largest records of specific column\n",
    "df.nsmallest(5,'colname') #show 5 smallest records of column\n",
    "df.reindex(new_index, fill_value=0)\n",
    "\n",
    "df.isnull().sum() #you can also use df.isna().sum() both work same\n",
    "df.notnull().sum() #to find non null \n",
    "df.isnull().mean()*100 #just like you calculate total sum you can also calculate mean. *100 is for % missing values\n",
    "df.dropna(axis=0/1) #subset=['price'] if you want to specify any specific column where you want to drop null values\n",
    "df['abc'].fillna(df['abc'].mean()) # Fill missing values with mean\n",
    "df['abc'].fillna(df['abc'].mode()[0])\n",
    "df.drop(labels=['col1','col2','col3'],axis=1) #if multiple columns to drop\n",
    "df.drop(['colname'],axis=1) #single column drop\n",
    "df.drop(10,axis=0,inplace=True) #if you want to drop any particular row then put row number eg 10 here\n",
    "df.drop(index=[2,5],axis=0,inplace=True) #if you have to drop multiple rows then provide index\n",
    "df['abc'].replace(np.nan,mean)\n",
    "df['abc'].str.replace('+','') #replace values with + to blank in col abc\n",
    "df['Date']=final_df['Date_of_Journey'].str.split('/').str[0] #suppose you have date in format 24/03/2019 then you can split it and make 3 columns\n",
    "df['Month']=final_df['Date_of_Journey'].str.split('/').str[1]\n",
    "df['Year']=final_df['Date_of_Journey'].str.split('/').str[2]\n",
    "#you can write code in multiple lines using \\\n",
    "# Drop variables and NaN cases, rename variable\n",
    "df = df.drop(['island', 'year', 'sex'], axis=1)\\\n",
    "    .dropna()\\\n",
    "    .rename(columns={'species': 'y'})\n",
    "\n",
    "\n",
    "#group by single column\n",
    "df.groupby('col1') ['col2'].sum().sort_values().reset_index() #use of groupby and sum values can use sort_values() also\n",
    "df.groupby('col1') ['col2'].sum().sort_values(ascending=False).reset_index().head(20) #another way if you have too many records to view and you want only highest 20 records to view\n",
    "df.groupby('col1')['col2'].nunique().reset_index(name='give index name as you want to display') #if you want to see unique values\n",
    "#group by multiple columns\n",
    "df_group=df.groupby(['col1','col2']) [['col2']].sum().sort_values(by='col1') \n",
    "#you have to provide multiple columns in a list then provide in a list and aggregate col in [[]] as it will give a dataframe\n",
    "df_group=df.groupby(['col1','col2']).col3.sum().sort_values().reset_index()\n",
    "df_group=df.groupby([\"col1\", \"col2\"]).agg({\"col1\": \"sum\"}) #this is another way using agg function\n",
    "df_group=df.groupby(['col1','col2','col3']).size().reset_index().rename(columns={0: 'give columnname'}) \n",
    "#if you have to calculate count number for grouped columns then use size()\n",
    "#calculate the ratio or % \n",
    "df['col1'].value_counts()/df.shape[0]*100 #value_counts give a series and index is sorted in descending order by default.\n",
    "df['col1'].value_counts().to_dict()\n",
    "#if you want to convert series into a dict use to_dict\n",
    "df.insert(loc, column, value, allow_duplicates=False/True) # used to insert a new column into a DataFrame at a specified location.\n",
    "\n",
    "#to calculate Q1, Q2 is median, Q3\n",
    "q1 = df.groupby('col1')['col2'].quantile(0.25)\n",
    "q2 = df.groupby('col1')['col2'].median()\n",
    "q3 = df.groupby('col1')['col2'].quantile(0.75)\n",
    "# Combine results into a DataFrame\n",
    "region_stats = pd.DataFrame({\n",
    "    'Q1': q1,\n",
    "    'Q2': q2,\n",
    "    'Q3': q3\n",
    "})\n",
    "print(region_stats)\n",
    "\n",
    "#to view correlation between multiple columns\n",
    "df[['a','b','c','d']].corr()\n",
    "\n",
    "#to convert numerical data to categorical you can create such function and apply it to the df column\n",
    "def age_cat(age):\n",
    "    if age >= 10 and age <= 20:\n",
    "        return '10-20'\n",
    "    elif age > 20 and age <= 30:\n",
    "        return '20-30'\n",
    "    elif age > 30 and age <=40:\n",
    "        return '30-40'\n",
    "    else:\n",
    "        return '40-50'\n",
    "    \n",
    "df['age_cate']= df['Age'].apply(age_cat) #creating a new column applying changes to it\n",
    "df['age_new'] = df['Age'].apply(lambda x:x**2) #lambda and apply willl apply \n",
    "df['Gender'].map({'F':0,'M':1}) #suppose you have to assign certain values in a column\n",
    "# Create 'currency' and 'rate_type' columns from 'rate' column which is string type\n",
    "rate_split = data['rate'].str.split('/', expand=True)\n",
    "data[\"currency\"] = rate_split[0]\n",
    "data[\"rate_type\"] = rate_split[1].apply(lambda x: \"fixed\" if pd.isna(x) else \"hourly\")\n",
    "#to change data to lowercase in column\n",
    "data[\"col1\"] = data[\"col1\"].apply(lambda x: [element.lower() for element in x])\n",
    "\n",
    "list=[1,2,3,4,5]\n",
    "df['Gender'].filter(lambda x:x%2==0,list) #to filter data from a list\n",
    "\n",
    "#if else statement in one line\n",
    "df['col1'] = [1 if x>0 else 0 for x in (df['col2']-df['col3'])]\n",
    "[features for features in df.columns if df[features].isnull().sum()>0] #this will give columns which don't have null values\n",
    "1 if x>0 else 0 for x in (df['col2']-df['col3'])\n",
    "for colname in df.columns if df[colname].isnull().sum()\n",
    "\n",
    "#to calculate upper limit lower limit values of data. anything above upper limit will be outlier\n",
    "percentile_25 = df['colname'].quantile(0.25)\n",
    "percentile_75 = df['colname'].quantile(0.75)\n",
    "median = df['colname'].median()\n",
    "lower_limit = percentile_25 - 1.5*(percentile_75 - percentile_25)\n",
    "lower_limit = 0 if lower_limit < 0 else lower_limit\n",
    "upper_limit = percentile_75 + 1.5*(percentile_75 - percentile_25)\n",
    "print(f'lower_limit:{lower_limit}, upper_limit: {upper_limit}')\n",
    "\n",
    "#to check outlier\n",
    "df[df['colname'] > upper_limit]\n",
    "\n",
    "#to print unique values of object datatype\n",
    "for col in df.columns:\n",
    "    if df[col].dtype=='object':\n",
    "        print(col,df[col].unique(),\"\\n\")\n",
    "        \n",
    "for i, value in enumerate(df['col1'].value_counts()):\n",
    "    plt.text(i, value, str(df['col1'].value_counts()), ha='center', va='bottom') #this is for visuals \n",
    "        \n",
    "#to filter data in df by excluding records of not use this is a sample example        \n",
    "df_none=df[(df['Amount_of_tip'] < 20) & (df['Delivery_Region'] != 'None')]\n",
    "\n",
    "# Calculate marginal probabilities\n",
    "mp_p = (df['col1'].value_counts() / len(df['col1'])\n",
    "        ).reset_index(name='Probability').round(2) \n",
    "#if you will not reset index you will not get index like 0,1,2 also you will not get column names \n",
    "#so important to reset index and if you want different columnname you can also specify that with name= "
   ]
  },
  {
   "cell_type": "code",
   "execution_count": null,
   "id": "5ee0da32",
   "metadata": {},
   "outputs": [],
   "source": [
    "#numpy\n",
    "\n",
    "np.linspace(0,10,5) #generate numbers 1-D array with 5 equally spaced values from 0 to 10\n",
    "np.arange(10) #generate numbers 1-D array with values from 0 to 9\n",
    "array=np.array(['1','2','3']) #1D array from python list\n",
    "array_2d=np.array([[1, 2, 3], [4, 5, 6], [7, 8, 9]]) #2d array 3 rows 3 columns\n",
    "array_2d.shape #2\n",
    "array_2d.ndim # (3,3)\n",
    "array_2d.size #9\n",
    "matrix1 = np.array([[1, 2], [3, 4]])\n",
    "matrix2 = np.array([[5, 6], [7, 8]])\n",
    "result = np.dot(array1, array2) #matric multiplcation\n",
    "#lists and tuples are useful for storing data of different data types \n",
    "#wheras numpy array must have the same data type but it is much faster than Python lists and tuples for numerical computations\n",
    "np.zeroes((2,3)) #2D array filled with zeroes from python tuple.  \n",
    "np.sqrt(array)\n",
    "np.sum(array)\n",
    "np.mean(array)\n",
    "np.max(array)\n",
    "np.min(array)\n",
    "np.random.rand(2, 2) #2x2 array with random values from a uniform distribution\n",
    "np.sum(), np.mean(), np.std(), np.min(), np.max() #Basic statistics.\n",
    "np.split()\n",
    "np.where() #df['new_col']= np.where(df['col1'].notna(), 'Yes', 'No') it is conditional statement used a lot\n",
    "np.percentile(array,25) or q1,q2=np.percentile(array,[25,75])\n",
    "np.var(array,axis=0/1) #calculates population variance not sample var\n",
    "np.random.rand(3,2) #generated 3*2 array\n",
    "np.random.randn(100) #generates 100 random numbers\n",
    "np.random.randint(1,10, size=5) #Generate 5 random integers between 1 and 10\n",
    "np.random.normal(mean, standard deviation, number of random samples) # used to generate random numbers from a normal (Gaussian) distribution\n",
    "np.random.lognormal(mu, standard deviation, size) #enerates random numbers from a log-normal distribution.It is commonly used to model data that are positively skewed and have a long right tail.\n",
    "np.random.pareto()"
   ]
  },
  {
   "cell_type": "code",
   "execution_count": null,
   "id": "622ecc1f",
   "metadata": {},
   "outputs": [],
   "source": [
    "#statistics\n",
    "\n",
    "statistics.variance #sample variance\n",
    "statistics.pvariance #population variance"
   ]
  },
  {
   "cell_type": "code",
   "execution_count": null,
   "id": "4e53f4b8",
   "metadata": {},
   "outputs": [],
   "source": [
    "#scipy\n",
    "\n",
    "from scipy.stats import pareto, expon, norm, uniform\n",
    "\n",
    "# Define range for x values\n",
    "x = np.linspace(0.1, 10, 1000)\n",
    "\n",
    "# Parameters for the distributions\n",
    "alpha = 2.5  # Shape parameter for Pareto distribution\n",
    "lambda_exp = 0.5  # Rate parameter for Exponential distribution\n",
    "mu = 0           # Mean for Normal distribution\n",
    "sigma = 1        # Standard deviation for Normal distribution\n",
    "a = 2            # Lower bound for Uniform distribution\n",
    "b = 8            # Upper bound for Uniform distribution\n",
    "\n",
    "# Calculate PDFs for each distribution\n",
    "pdf_pareto = pareto.pdf(x, alpha, scale=1)\n",
    "pdf_exp = expon.pdf(x, scale=1/lambda_exp)\n",
    "pdf_norm = norm.pdf(x, mu, sigma)\n",
    "pdf_uniform = uniform.pdf(x, a, b - a)\n",
    "\n",
    "# Generate data points for x\n",
    "x = np.linspace(-5, 5, 1000)\n",
    "\n",
    "# Calculate PDF and CDF for standard normal distribution\n",
    "pdf = norm.pdf(x)\n",
    "cdf = norm.cdf(x)\n",
    "\n",
    "# Plot PDF and CDF\n",
    "plt.figure(figsize=(10, 6))\n",
    "plt.plot(x, pdf, label='PDF', color='b')\n",
    "plt.plot(x, cdf, label='CDF', color='r')\n",
    "\n",
    "plt.title('PDF vs CDF')\n",
    "plt.xlabel('x')\n",
    "plt.ylabel('Probability')\n",
    "plt.legend()\n",
    "plt.grid(True)\n",
    "plt.show()"
   ]
  },
  {
   "cell_type": "code",
   "execution_count": null,
   "id": "040e3e45",
   "metadata": {},
   "outputs": [],
   "source": [
    "#pandas\n",
    "\n",
    "df4=pd.DataFrame({'B:'['B2','B3','B6','B7'],\n",
    "                  'C:'['C2','C3','C6','C7']},\n",
    "               index=[2,3,6,7])\n",
    "#f there are multiple csv files in data source and you have to make a single file then use concat or merge. \n",
    "pd.concat([df,df4], axis=1, join='inner') #concat is to append dataframes rowwise or columnwise\n",
    "pd.merge(df1,df2,on='abc',how='outer/inner') #merge is to combine dataframe on common columns\n",
    "\n",
    "\n",
    "pd.crosstab(df[\"abc\"],df[\"def\"],margins=True, margins_name='All')\n",
    "pd.pivot_table(df,index=[\"abc\"],values=\"def\")\n",
    "df.pivot(index='abc',columns='def')\n",
    "df[\"abc\"].astype(\"int\")\n",
    "#if you want to change datatype of col on the fly and dont want to permananetly change in df. Here all 3 cols datatype will change to str\n",
    "df['new']= df[['col1','col2','col3']].astype(str).agg('-'.join, axis=1) \n",
    "df[\"abc\"]=pd.to_datetime(df[\"abc\"]) #to convert to datetime format\n",
    "pd.get_dummies(df['abc']) #to encode all categorical variables\n",
    "pd.series(pd.date_range('2024-01-01', end='2024-05-01',freq='D'))\n",
    "#to convert series to df use reset_index and assign column names\n",
    "df_grouped = df_grouped.reset_index() #\n",
    "df_grouped.columns = ['abc', 'def'] #columns name provide\n",
    "\n"
   ]
  },
  {
   "cell_type": "code",
   "execution_count": null,
   "id": "29347ac1",
   "metadata": {},
   "outputs": [],
   "source": [
    "#Matplotlib\n",
    "\n",
    "import matplotlib.pyplot as plt\n",
    "%matplotlib inline \n",
    "plt.figure(figsize=((15,5)))\n",
    "Plt.title(‘’)\n",
    "plt.ylim(ymin=0) # you can also write as plt.ylim(0,)\n",
    "plt.xlim(xmin=0)\n",
    "Plt.xlabel(“xheight”)\n",
    "Plt.ylabel(“yheight”)\n",
    "plt.xticks(ticks=[0,1,2,3], lables=['p1','p2','p3','p4'])\n",
    "plt.xticks(range(0, 160, 10), list(np.arange(0,160,10)))\n",
    "plt.plot(col1,'Y--',label='') #willl give dash lines in yellow\n",
    "plt.plot(col2,'go') # will give green circle in shape\n",
    "plt.legend(labels=['col1','col2'],loc='lower right')\n",
    "plt.axvline(x=8,color='red',lw=1,ls='--',alpha=0.5) #put value of x where you want to draw reference line on x axis\n",
    "plt.axhline(y=80,color='red',lw=1,ls='--',alpha=0.5)\n",
    "plt.text(3, 6, 'Important point', fontsize=12, color='red') # Add text at specified coordinates specify x and y coordinate\n",
    "#you can show a reference line if you want to focus on something in visual\n",
    "\n",
    "# Plotting using pandas and matplotlib\n",
    "df['abc'].plot(kind='hist/line/bar/barh/kde/density/area/scatter/box',color='Red') \n",
    "# bins=10 for hist plot, if area plot can use stacked=True/False optional\n",
    "df[[\"col1\",\"col2\"]].groupby(\"col1\").sum().sort_values(by=\"col2\", ascending=False).plot(kind = \"bar\", color = \"green\", figsize=(16,6)) #another example\n",
    "plt.xlabel('')\n",
    "plt.ylabel('')\n",
    "plt.title('')\n",
    "plt.axvline(x=8,color='red',lw=1,ls='--',alpha=0.5) #optional statement if don't want\n",
    "plt.text(3, 6, 'Text you want to put', fontsize=12, color='red') # Add text at specified coordinates\n",
    "plt.show()\n",
    "\n",
    "#To make dual axis chart with y axis common in both use subplot\n",
    "fig,ax=plt.subplots(nrows=1,ncols=2,figsize=(6,6),sharey=True)\n",
    "ax[0].plot(col1,'go')\n",
    "ax[1].plot(col2)\n",
    "\n",
    "#pie chart (univariate analysis)\n",
    "# Data\n",
    "labels = ['A', 'B', 'C', 'D']\n",
    "sizes = [15, 30, 45, 10]  # Values for each slice\n",
    "# Create a pie chart\n",
    "plt.figure(figsize=(6, 6))  # Set the figure size\n",
    "plt.pie(sizes, labels=labels, autopct='%1.1f%%', startangle=140)\n",
    "# Equal aspect ratio ensures that pie is drawn as a circle\n",
    "plt.axis('equal')\n",
    "# Add a title\n",
    "plt.title('Pie Chart Example')\n",
    "\n",
    "\n",
    "#another way to do this for creating multiple pie charts using subplots\n",
    "plt.subplot(4,2,1)\n",
    "data_p = df['MaritalStatus'].value_counts() #always use value_counts to calculate this will give values in desc order hence your pie chart will have top values as % value split\n",
    "labels = data_p.index\n",
    "plt.title('Marital Status', fontsize = 20)\n",
    "plt.pie(data_p, labels=labels, explode = [0.05,0.05], autopct='%1.1f%%',\n",
    "        startangle=90, counterclock=False, pctdistance=0.6,\n",
    "        textprops={'fontsize': 12},\n",
    "        colors=['lightgreen', 'lightpink']) #colors = ['coral','#FFDAB9','yellowgreen','#6495ED']\n",
    "#explode will break your pie chart and show like partitions\n",
    "plt.tight_layout()\n",
    "plt.show()\n",
    "\n",
    "#to create a donut chart\n",
    "data_p=df['abc'].value_counts() #always use value_counts to calculate this will give values in desc order hence your pie chart will have top values as % value split\n",
    "lbl=data_p.index.to_list()\n",
    "plt.figure(figsize=(15,7))\n",
    "plt.subplot(1,2,1)\n",
    "plt.pie(data_p[:3],labels=lbl[:3],autopct=\"%1.1f%%\",colors=[\"#96B6C5\",\"#FDE5EC\"]) #outer circle #if you want to diaply only top 3 values in pie chart then specify [:3]\n",
    "plt.title(\"Gender in Attrition\",color='red')\n",
    "my_circle=plt.Circle( (0,0), 0.7, color='white') #inner circle\n",
    "p=plt.gcf()\n",
    "p.gca().add_artist(my_circle)"
   ]
  },
  {
   "cell_type": "code",
   "execution_count": null,
   "id": "9f22c11f",
   "metadata": {},
   "outputs": [],
   "source": [
    "#Seaborn\n",
    "\n",
    "sns.set_style(\"whitegrid\") \n",
    "\n",
    "###univariate analysis\n",
    "sns.countplot(df['colname'],x='')\n",
    "sns.violinplot(df['col1'],orient='vertical',color='magenta/green')\n",
    "sns.boxplot(df['colname'],orient='vertical/horizontal') \n",
    "#this will pllot only one column with values on y axis\n",
    "sns.histplot(y='colname',data=df,bins=range(0, 41, 5),binwidth=5,shrink=0.7,multiple='dodge',hue='colname')\n",
    "#hue='colname', bins=10 (can provide number of numbers),multiple='dodge' (for better comparison between bars use this)\n",
    "#depends how many bins you want and width you can provide x axis if you want bars in x axis else give y axis\n",
    "#can also plot histogram without seaborn-- df.hist(bins=60,figsize=(20,15))\n",
    "\n",
    "###Density plot\n",
    "sns.kdeplot(df['col1'],shade=True,fill=True) #kernel density estimation\n",
    "sns.displot(data=df['col1'], height=8, aspect=1.6, kde=True, color='dodgerblue') #histogram and kde combined dont want kde then remove kde parameter\n",
    "\n",
    "\n",
    "###bivariate analysis (Numerical-categorial)\n",
    "sns.barplot((x='',y='',data=df,palette='YlOrRd_r',order=(train.groupby(['col1','col2']).col3.sum().sort_values(ascending=False).reset_index().head(20)['col1'])))\n",
    "#for single boxplot\n",
    "sns.boxplot(x=\"col1\",y=\"col2\",data=df, showmeans=True) \n",
    "#in a single plot it will create multiple boxplots for all the distinct values of column in x axis  showmeans=True is optional\n",
    "#for creating multiple boxplots for df use subplot\n",
    "plt.subplot(1,2,1)\n",
    "sns.boxplot(y=df['col1'],palette=['#EA906C'])\n",
    "#you can also create loop instead of writing manually various subplots\n",
    "plt.figure(figsize=(25,50))\n",
    "for i in range (0 , df.shape[1]): \n",
    "  plt.subplot(9,3,i+1) #9 is number of rows 3 is number of columns\n",
    "  sns.boxplot(y=df.iloc[:,i],palette=['#EA906C'])\n",
    "  plt.title(df.columns[i])\n",
    "\n",
    "\n",
    "#bivariate analysis (Numerical-Numerical)\n",
    "sns.lineplot(x='col1',y='col2',data=df[:50],hue='col3')\n",
    "#hue is optional #if you want to plot for only 50 records then df[:50]\n",
    "sns.pointplot(x=df.groupby('col1').sum().reset_index()['col1'],y=train.groupby('col1').sum().reset_index()['col2'],color='blue')\n",
    "\n",
    "###For categorical data (scatter plots)\n",
    "sns.catplot(x='',y='',data=df[:250],kind='strip/swarm/box/violin/box',palette=\"Oranges_r\")\n",
    "# default is scatter plot so if you want other shapes then specify\n",
    "sns.countplot(x='col1',data=df,hue='col2',order=df['col1']) #for two categorical data it will plot count for x axis for various hue\n",
    "#if you want to get label on countplot bars use bar_label method\n",
    "ax1=sns.countplot(df['abc'],x=df['abc'])\n",
    "for bars in ax1.containers:\n",
    "  ax1.bar_label(bars)\n",
    "\n",
    "#if you want to create multiple visualizations i.e. few distplots and countplot then use subplots\n",
    "figure, ax = plt.subplots(4,2, figsize=(12,12))\n",
    "#See the distrubution of the data\n",
    "sns.distplot(data['charges'],ax= ax[0,0])\n",
    "sns.distplot(data['age'],ax=ax[0,1])\n",
    "sns.distplot(data['bmi'],ax= ax[1,0])\n",
    "sns.distplot(data['children'],ax= ax[1,1])\n",
    "ax1=sns.countplot(data['sex'],x=data['sex'],ax=ax[2,0])\n",
    "for bars in ax1.containers:\n",
    "  ax1.bar_label(bars)\n",
    "sns.countplot(data['smoker'],x=data['smoker'],ax= ax[2,1])\n",
    "sns.countplot(data['region'],x=data['region'],ax= ax[3,0])\n",
    "\n",
    "\n",
    "#explore correlation between multi dimensional data\n",
    "sns.pairplot(df,hue='',height=, corner=True)  #put corner for sure \n",
    "#pairgrid is another way to visualize relationship between variables. used commonly in ML clustering/classification models)\n",
    "sns.PairGrid(\n",
    "    df, \n",
    "    vars=['col1', 'col2', 'col3', 'col4'], #these are all the variables you wat to check relationship with predictor variable y \n",
    "    hue='y', #this is your predictor variable\n",
    "    diag_sharey=False, \n",
    "    palette=[\"red\", \"green\", \"blue\"])\n",
    "# Adds histograms on the diagonal\n",
    "g.map_diag(plt.hist)\n",
    "# Adds density plots above the diagonal\n",
    "g.map_upper(sns.kdeplot)\n",
    "# Adds scatterplots below the diagonal\n",
    "g.map_lower(sns.scatterplot)\n",
    "# Adds a legend\n",
    "g.add_legend()\n",
    "\n",
    "#here density plot is for univariant and scatterplot is for bivariant data\n",
    "sns.scatterplot(x=df['col1'],y=df['col2'],hue='',s=10,palette = 'colorblind') \n",
    "#hue is optional, s is size , either you specify df in x and y axis like x= df['col1'] or you don't give x='col1',y='col2'and specify data=df\n",
    "sns.scatterplot(x='col1',y='col2',hue='',s=10, data=df,palette = 'colorblind') #another way of syntax\n",
    "sns.scatterplot(y=df['col1']-df['col2'],x=train['col3'])  #another way if you want to suubtract 2 columns can also do straight here\n",
    "sns.relplot(x='col1',y='col2',data=df[:200],kind='scatter',hue='col3',size='col3') \n",
    "#hue,kind,size is optional (size will determine scatter plot bubbles sizes)\n",
    "sns.relplot(x='col1',y='col2',data=df,kind='scatter',hue='col3',style='col3',col='col3') \n",
    "#this will create scatter plot for each col i.e. col3\n",
    "sns.regplot(x=\"col1\",y=\"col2\",data=df) #color='blue' \n",
    "#\"regplot\" plots the scatterplot plus the fitted regression line for the data.\n",
    "#regplot doesn't have hue option hence if you want regplot with hue then use lmplot\n",
    "sns.lmplot(x=\"col1\", y=\"col2\", hue=\"col3\", data=df, palette = 'muted', height = 6) #this will give regression fitted line (used for ML models)\n",
    "\n",
    "sns.heatmap(df,annot=True,cmap='YlGnBu',fmt='.2f') \n",
    "#if your df has both int and object data type it cannot create heatmap you need to specify numeric colnames to create heatmap\n",
    "#If you want to normalize then use it ,fmt is to format the values as integer/float\n",
    "#heatmap can be used with int/float or numerical data type if you want to use categorical data then create a crosstab between x and Y\n",
    "sns.heatmap(pd.crosstab(df['col1'], df['col2'],normalize = True),annot = True) #normalize is optional\n",
    "#another way after finding correlation heatmap can be made \n",
    "corr = train.corr(numeric_only=True) #correlation of finding relationship between numerical values\n",
    "sns.heatmap(corr, annot=True)\n",
    "#try this full code and build heatmap here we are removing \n",
    "SP_corr = df.corr()\n",
    "mask = np.zeros_like(SP_corr)\n",
    "mask[np.triu_indices_from(mask)] = True\n",
    "with sns.axes_style(\"white\"):\n",
    "    f, ax = plt.subplots(figsize=(12, 10))\n",
    "    ax = sns.heatmap(SP_corr, mask=mask, vmax=1, vmin=-1, linewidths=.5, square=True, cmap='coolwarm', annot=True)\n",
    "    plt.title('', fontsize = 15)\n",
    "    plt.yticks(rotation=0)\n",
    "    plt.tight_layout()\n",
    "\n",
    "# Add labels and title at the end for all above visuals\n",
    "plt.xlabel('Total Bill ($)') #fontdict={'fontsize':12} can be added optional\n",
    "plt.ylabel('Tip ($)')\n",
    "plt.title('Scatter Plot of Tips vs Total Bill')  #fontdict={'fontsize':12} can be added optional\n",
    "plt.show()"
   ]
  },
  {
   "cell_type": "code",
   "execution_count": 1,
   "id": "64d8e987",
   "metadata": {},
   "outputs": [
    {
     "name": "stdout",
     "output_type": "stream",
     "text": [
      "         Day  Weekday_Sightings  Weekend\n",
      "0     Monday                100        0\n",
      "1    Tuesday                120        0\n",
      "2  Wednesday                110        0\n",
      "3   Thursday                105        0\n",
      "4     Friday                115        0\n",
      "5   Saturday                200        1\n",
      "6     Sunday                220        1\n"
     ]
    }
   ],
   "source": [
    "#implementing chi square test\n",
    "import pandas as pd\n",
    "import numpy as np\n",
    "from scipy.stats import chi2_contingency\n",
    "\n",
    "# Example dataset of UFO sightings\n",
    "data = {\n",
    "    'Day': ['Monday', 'Tuesday', 'Wednesday', 'Thursday', 'Friday', 'Saturday', 'Sunday'],\n",
    "    'Weekday_Sightings': [100, 120, 110, 105, 115, 200, 220]  # Number of sightings per day\n",
    "}\n",
    "\n",
    "# Convert the data into a pandas DataFrame\n",
    "df = pd.DataFrame(data)\n",
    "\n",
    "# Add a column for weekend/weekday classification\n",
    "# 1 for weekend (Saturday and Sunday), 0 for weekday (Monday to Friday)\n",
    "df['Weekend'] = np.where(df['Day'].isin(['Saturday', 'Sunday']), 1, 0)\n",
    "\n",
    "# Print the DataFrame to verify the data\n",
    "print(df)"
   ]
  },
  {
   "cell_type": "code",
   "execution_count": 2,
   "id": "8efe7899",
   "metadata": {},
   "outputs": [
    {
     "data": {
      "text/html": [
       "<div>\n",
       "<style scoped>\n",
       "    .dataframe tbody tr th:only-of-type {\n",
       "        vertical-align: middle;\n",
       "    }\n",
       "\n",
       "    .dataframe tbody tr th {\n",
       "        vertical-align: top;\n",
       "    }\n",
       "\n",
       "    .dataframe thead th {\n",
       "        text-align: right;\n",
       "    }\n",
       "</style>\n",
       "<table border=\"1\" class=\"dataframe\">\n",
       "  <thead>\n",
       "    <tr style=\"text-align: right;\">\n",
       "      <th>Weekday_Sightings</th>\n",
       "      <th>100</th>\n",
       "      <th>105</th>\n",
       "      <th>110</th>\n",
       "      <th>115</th>\n",
       "      <th>120</th>\n",
       "      <th>200</th>\n",
       "      <th>220</th>\n",
       "    </tr>\n",
       "    <tr>\n",
       "      <th>Weekend</th>\n",
       "      <th></th>\n",
       "      <th></th>\n",
       "      <th></th>\n",
       "      <th></th>\n",
       "      <th></th>\n",
       "      <th></th>\n",
       "      <th></th>\n",
       "    </tr>\n",
       "  </thead>\n",
       "  <tbody>\n",
       "    <tr>\n",
       "      <th>0</th>\n",
       "      <td>1</td>\n",
       "      <td>1</td>\n",
       "      <td>1</td>\n",
       "      <td>1</td>\n",
       "      <td>1</td>\n",
       "      <td>0</td>\n",
       "      <td>0</td>\n",
       "    </tr>\n",
       "    <tr>\n",
       "      <th>1</th>\n",
       "      <td>0</td>\n",
       "      <td>0</td>\n",
       "      <td>0</td>\n",
       "      <td>0</td>\n",
       "      <td>0</td>\n",
       "      <td>1</td>\n",
       "      <td>1</td>\n",
       "    </tr>\n",
       "  </tbody>\n",
       "</table>\n",
       "</div>"
      ],
      "text/plain": [
       "Weekday_Sightings  100  105  110  115  120  200  220\n",
       "Weekend                                             \n",
       "0                    1    1    1    1    1    0    0\n",
       "1                    0    0    0    0    0    1    1"
      ]
     },
     "execution_count": 2,
     "metadata": {},
     "output_type": "execute_result"
    }
   ],
   "source": [
    "# Contingency table\n",
    "contingency_table = pd.crosstab(df['Weekend'], df['Weekday_Sightings'])\n",
    "contingency_table\n"
   ]
  },
  {
   "cell_type": "code",
   "execution_count": 7,
   "id": "5665ff40",
   "metadata": {},
   "outputs": [
    {
     "data": {
      "text/html": [
       "<div>\n",
       "<style scoped>\n",
       "    .dataframe tbody tr th:only-of-type {\n",
       "        vertical-align: middle;\n",
       "    }\n",
       "\n",
       "    .dataframe tbody tr th {\n",
       "        vertical-align: top;\n",
       "    }\n",
       "\n",
       "    .dataframe thead th {\n",
       "        text-align: right;\n",
       "    }\n",
       "</style>\n",
       "<table border=\"1\" class=\"dataframe\">\n",
       "  <thead>\n",
       "    <tr style=\"text-align: right;\">\n",
       "      <th></th>\n",
       "      <th>Name</th>\n",
       "      <th>Age</th>\n",
       "    </tr>\n",
       "  </thead>\n",
       "  <tbody>\n",
       "    <tr>\n",
       "      <th>0</th>\n",
       "      <td>Alice</td>\n",
       "      <td>25</td>\n",
       "    </tr>\n",
       "    <tr>\n",
       "      <th>1</th>\n",
       "      <td>Bob</td>\n",
       "      <td>30</td>\n",
       "    </tr>\n",
       "    <tr>\n",
       "      <th>2</th>\n",
       "      <td>Charlie</td>\n",
       "      <td>35</td>\n",
       "    </tr>\n",
       "    <tr>\n",
       "      <th>3</th>\n",
       "      <td>David</td>\n",
       "      <td>40</td>\n",
       "    </tr>\n",
       "  </tbody>\n",
       "</table>\n",
       "</div>"
      ],
      "text/plain": [
       "      Name  Age\n",
       "0    Alice   25\n",
       "1      Bob   30\n",
       "2  Charlie   35\n",
       "3    David   40"
      ]
     },
     "execution_count": 7,
     "metadata": {},
     "output_type": "execute_result"
    }
   ],
   "source": [
    "data = {'Name': ['Alice', 'Bob', 'Charlie', 'David'],\n",
    "        'Age': [25, 30, 35, 40]}\n",
    "df = pd.DataFrame(data)\n",
    "df"
   ]
  },
  {
   "cell_type": "code",
   "execution_count": 3,
   "id": "951a6bdd",
   "metadata": {},
   "outputs": [
    {
     "data": {
      "text/plain": [
       "a    1\n",
       "b    2\n",
       "c    3\n",
       "d    4\n",
       "e    5\n",
       "dtype: int64"
      ]
     },
     "execution_count": 3,
     "metadata": {},
     "output_type": "execute_result"
    }
   ],
   "source": [
    "s = pd.Series([1, 2, 3, 4, 5], index=['a', 'b', 'c', 'd', 'e'])\n",
    "s"
   ]
  },
  {
   "cell_type": "code",
   "execution_count": 27,
   "id": "20bb4fd7",
   "metadata": {},
   "outputs": [
    {
     "data": {
      "text/plain": [
       "[625, 900, 1225, 1600]"
      ]
     },
     "execution_count": 27,
     "metadata": {},
     "output_type": "execute_result"
    }
   ],
   "source": [
    "data = {'Name': ['Alice', 'Bob', 'Charlie', 'David'],\n",
    "        'Age': [25, 30, 35, 40]}\n",
    "df = pd.DataFrame(data)\n",
    "# Lets say I want to square each term in my_list.\n",
    "squared_list = list(map(lambda x:x**2,df['Age']))\n",
    "squared_list"
   ]
  },
  {
   "cell_type": "code",
   "execution_count": 18,
   "id": "cf9f5067",
   "metadata": {},
   "outputs": [
    {
     "data": {
      "text/html": [
       "<div>\n",
       "<style scoped>\n",
       "    .dataframe tbody tr th:only-of-type {\n",
       "        vertical-align: middle;\n",
       "    }\n",
       "\n",
       "    .dataframe tbody tr th {\n",
       "        vertical-align: top;\n",
       "    }\n",
       "\n",
       "    .dataframe thead th {\n",
       "        text-align: right;\n",
       "    }\n",
       "</style>\n",
       "<table border=\"1\" class=\"dataframe\">\n",
       "  <thead>\n",
       "    <tr style=\"text-align: right;\">\n",
       "      <th></th>\n",
       "      <th>Name</th>\n",
       "      <th>Age</th>\n",
       "      <th>age_new</th>\n",
       "    </tr>\n",
       "  </thead>\n",
       "  <tbody>\n",
       "    <tr>\n",
       "      <th>0</th>\n",
       "      <td>Alice</td>\n",
       "      <td>25</td>\n",
       "      <td>625</td>\n",
       "    </tr>\n",
       "    <tr>\n",
       "      <th>1</th>\n",
       "      <td>Bob</td>\n",
       "      <td>30</td>\n",
       "      <td>900</td>\n",
       "    </tr>\n",
       "    <tr>\n",
       "      <th>2</th>\n",
       "      <td>Charlie</td>\n",
       "      <td>35</td>\n",
       "      <td>1225</td>\n",
       "    </tr>\n",
       "    <tr>\n",
       "      <th>3</th>\n",
       "      <td>David</td>\n",
       "      <td>40</td>\n",
       "      <td>1600</td>\n",
       "    </tr>\n",
       "  </tbody>\n",
       "</table>\n",
       "</div>"
      ],
      "text/plain": [
       "      Name  Age  age_new\n",
       "0    Alice   25      625\n",
       "1      Bob   30      900\n",
       "2  Charlie   35     1225\n",
       "3    David   40     1600"
      ]
     },
     "execution_count": 18,
     "metadata": {},
     "output_type": "execute_result"
    }
   ],
   "source": [
    "data = {'Name': ['Alice', 'Bob', 'Charlie', 'David'],\n",
    "        'Age': [25, 30, 35, 40]}\n",
    "df = pd.DataFrame(data)\n",
    "# Lets say I want to square each term in my_list.\n",
    "df['age_new'] = df['Age'].apply(lambda x:x**2)\n",
    "df"
   ]
  },
  {
   "cell_type": "code",
   "execution_count": 37,
   "id": "ddb12386",
   "metadata": {},
   "outputs": [
    {
     "data": {
      "image/png": "[encoded data removed]",
      "text/plain": [
       "<Figure size 640x480 with 1 Axes>"
      ]
     },
     "metadata": {},
     "output_type": "display_data"
    }
   ],
   "source": [
    "import matplotlib.pyplot as plt\n",
    "\n",
    "# Create some data\n",
    "x = [1, 2, 3, 4, 5]\n",
    "y = [2, 4, 6, 8, 10]\n",
    "\n",
    "# Plot the data\n",
    "plt.plot(x, y, 'b-o')\n",
    "plt.xticks(range(1, 6), np.arange(1,6))\n",
    "\n",
    "# Add text at specified coordinates\n",
    "plt.text(3, 6, 'Important point', fontsize=12, color='red')\n",
    "\n",
    "# Show the plot\n",
    "plt.show()"
   ]
  },
  {
   "cell_type": "code",
   "execution_count": 29,
   "id": "f8988eee",
   "metadata": {},
   "outputs": [
    {
     "name": "stdout",
     "output_type": "stream",
     "text": [
      "[ 0 | 0 ] [ 0 | 1 ] [ 0 | 2 ] [ 0 | 3 ] [ 0 | 4 ] [ 0 | 5 ] [ 0 | 6 ] \n",
      "[ 1 | 1 ] [ 1 | 2 ] [ 1 | 3 ] [ 1 | 4 ] [ 1 | 5 ] [ 1 | 6 ] \n",
      "[ 2 | 2 ] [ 2 | 3 ] [ 2 | 4 ] [ 2 | 5 ] [ 2 | 6 ] \n",
      "[ 3 | 3 ] [ 3 | 4 ] [ 3 | 5 ] [ 3 | 6 ] \n",
      "[ 4 | 4 ] [ 4 | 5 ] [ 4 | 6 ] \n",
      "[ 5 | 5 ] [ 5 | 6 ] \n",
      "[ 6 | 6 ] \n"
     ]
    }
   ],
   "source": [
    "for left in range(7):\n",
    "    for right in range(left,7):\n",
    "        print(\"[\",left,\"|\",right,\"]\", end=\" \")\n",
    "    print()"
   ]
  },
  {
   "cell_type": "code",
   "execution_count": 44,
   "id": "9e691a65",
   "metadata": {},
   "outputs": [
    {
     "name": "stdout",
     "output_type": "stream",
     "text": [
      "Progress: 9/10\n",
      "Task complete!\n"
     ]
    }
   ],
   "source": [
    "import time\n",
    "\n",
    "# Loop to simulate progress updates\n",
    "for i in range(10):\n",
    "    # Print progress\n",
    "    print(\"Progress: {}/10\".format(i), end='\\r')\n",
    "    # Simulate some processing time\n",
    "    time.sleep(1)\n",
    "\n",
    "print(\"\\nTask complete!\")"
   ]
  },
  {
   "cell_type": "code",
   "execution_count": 25,
   "id": "e01f30d7",
   "metadata": {},
   "outputs": [
    {
     "ename": "TypeError",
     "evalue": "dict.keys() takes no arguments (1 given)",
     "output_type": "error",
     "traceback": [
      "\u001b[0;31m---------------------------------------------------------------------------\u001b[0m",
      "\u001b[0;31mTypeError\u001b[0m                                 Traceback (most recent call last)",
      "Cell \u001b[0;32mIn[25], line 2\u001b[0m\n\u001b[1;32m      1\u001b[0m File_count\u001b[38;5;241m=\u001b[39m {\u001b[38;5;124m\"\u001b[39m\u001b[38;5;124mjpg\u001b[39m\u001b[38;5;124m\"\u001b[39m:\u001b[38;5;241m10\u001b[39m, \u001b[38;5;124m\"\u001b[39m\u001b[38;5;124mtxt\u001b[39m\u001b[38;5;124m\"\u001b[39m:\u001b[38;5;241m14\u001b[39m, \u001b[38;5;124m\"\u001b[39m\u001b[38;5;124mcsv\u001b[39m\u001b[38;5;124m\"\u001b[39m:\u001b[38;5;241m2\u001b[39m}\n\u001b[0;32m----> 2\u001b[0m \u001b[38;5;28mprint\u001b[39m(File_count\u001b[38;5;241m.\u001b[39mkeys(\u001b[38;5;241m0\u001b[39m))\n\u001b[1;32m      3\u001b[0m \u001b[38;5;28mprint\u001b[39m(File_count\u001b[38;5;241m.\u001b[39mvalues())\n",
      "\u001b[0;31mTypeError\u001b[0m: dict.keys() takes no arguments (1 given)"
     ]
    }
   ],
   "source": [
    "File_count= {\"jpg\":10, \"txt\":14, \"csv\":2}\n",
    "print(File_count.keys())\n",
    "print(File_count.values())"
   ]
  },
  {
   "cell_type": "code",
   "execution_count": 37,
   "id": "9711af16",
   "metadata": {},
   "outputs": [
    {
     "name": "stdout",
     "output_type": "stream",
     "text": [
      "{'jpg': [10], 'txt': [14], 'csv': [2]}\n"
     ]
    }
   ],
   "source": [
    "def one_dict(list_dict):\n",
    "    out_dict={} #key: [] is a dictionary comprehension where each key in the keys variable is used to create a key-value pair in the out_dict dictionary.\n",
    "    for key, value in list_dict.items():\n",
    "        out_dict[key]=[value]\n",
    "    return out_dict\n",
    "\n",
    "result=one_dict({\"jpg\":10, \"txt\":14, \"csv\":2})\n",
    "print(result)"
   ]
  },
  {
   "cell_type": "code",
   "execution_count": 38,
   "id": "83456748",
   "metadata": {},
   "outputs": [
    {
     "name": "stdout",
     "output_type": "stream",
     "text": [
      "{'jpg': [10], 'txt': [14], 'csv': [2]}\n"
     ]
    }
   ],
   "source": [
    "def one_dict(list_dict):\n",
    "    keys=list_dict.keys()\n",
    "    out_dict={key:[] for key in keys} #key: [] is a dictionary comprehension where each key in the keys variable is used to create a key-value pair in the out_dict dictionary.\n",
    "    for key, value in list_dict.items():\n",
    "        out_dict[key].append(value)\n",
    "    return out_dict\n",
    "\n",
    "result=one_dict({\"jpg\":10, \"txt\":14, \"csv\":2})\n",
    "print(result)\n"
   ]
  },
  {
   "cell_type": "code",
   "execution_count": 35,
   "id": "3588c0b8",
   "metadata": {},
   "outputs": [
    {
     "name": "stdout",
     "output_type": "stream",
     "text": [
      "red shirt\n",
      "blue shirt\n",
      "white shirt\n",
      "blue jeans\n",
      "black jeans\n"
     ]
    }
   ],
   "source": [
    "wardrobe = {\"shirt\":[\"red\",\"blue\",\"white\"], \"jeans\":[\"blue\",\"black\"]}\n",
    "for keys,values in wardrobe.items():\n",
    "    for value in values:\n",
    "      print(f\"{value} {keys}\")"
   ]
  },
  {
   "cell_type": "code",
   "execution_count": 12,
   "id": "95f1d615",
   "metadata": {},
   "outputs": [
    {
     "data": {
      "application/vnd.plotly.v1+json": {
       "config": {
        "plotlyServerURL": "https://plot.ly"
       },
       "data": [
        {
         "close": [
          110,
          105,
          115,
          120,
          115
         ],
         "high": [
          120,
          115,
          125,
          120,
          125
         ],
         "low": [
          90,
          105,
          100,
          110,
          115
         ],
         "open": [
          100,
          110,
          105,
          115,
          120
         ],
         "type": "candlestick",
         "x": [
          "2022-01-01T00:00:00",
          "2022-01-02T00:00:00",
          "2022-01-03T00:00:00",
          "2022-01-04T00:00:00",
          "2022-01-05T00:00:00"
         ]
        }
       ],
       "layout": {
        "template": {
         "data": {
          "bar": [
           {
            "error_x": {
             "color": "#2a3f5f"
            },
            "error_y": {
             "color": "#2a3f5f"
            },
            "marker": {
             "line": {
              "color": "#E5ECF6",
              "width": 0.5
             },
             "pattern": {
              "fillmode": "overlay",
              "size": 10,
              "solidity": 0.2
             }
            },
            "type": "bar"
           }
          ],
          "barpolar": [
           {
            "marker": {
             "line": {
              "color": "#E5ECF6",
              "width": 0.5
             },
             "pattern": {
              "fillmode": "overlay",
              "size": 10,
              "solidity": 0.2
             }
            },
            "type": "barpolar"
           }
          ],
          "carpet": [
           {
            "aaxis": {
             "endlinecolor": "#2a3f5f",
             "gridcolor": "white",
             "linecolor": "white",
             "minorgridcolor": "white",
             "startlinecolor": "#2a3f5f"
            },
            "baxis": {
             "endlinecolor": "#2a3f5f",
             "gridcolor": "white",
             "linecolor": "white",
             "minorgridcolor": "white",
             "startlinecolor": "#2a3f5f"
            },
            "type": "carpet"
           }
          ],
          "choropleth": [
           {
            "colorbar": {
             "outlinewidth": 0,
             "ticks": ""
            },
            "type": "choropleth"
           }
          ],
          "contour": [
           {
            "colorbar": {
             "outlinewidth": 0,
             "ticks": ""
            },
            "colorscale": [
             [
              0,
              "#0d0887"
             ],
             [
              0.1111111111111111,
              "#46039f"
             ],
             [
              0.2222222222222222,
              "#7201a8"
             ],
             [
              0.3333333333333333,
              "#9c179e"
             ],
             [
              0.4444444444444444,
              "#bd3786"
             ],
             [
              0.5555555555555556,
              "#d8576b"
             ],
             [
              0.6666666666666666,
              "#ed7953"
             ],
             [
              0.7777777777777778,
              "#fb9f3a"
             ],
             [
              0.8888888888888888,
              "#fdca26"
             ],
             [
              1,
              "#f0f921"
             ]
            ],
            "type": "contour"
           }
          ],
          "contourcarpet": [
           {
            "colorbar": {
             "outlinewidth": 0,
             "ticks": ""
            },
            "type": "contourcarpet"
           }
          ],
          "heatmap": [
           {
            "colorbar": {
             "outlinewidth": 0,
             "ticks": ""
            },
            "colorscale": [
             [
              0,
              "#0d0887"
             ],
             [
              0.1111111111111111,
              "#46039f"
             ],
             [
              0.2222222222222222,
              "#7201a8"
             ],
             [
              0.3333333333333333,
              "#9c179e"
             ],
             [
              0.4444444444444444,
              "#bd3786"
             ],
             [
              0.5555555555555556,
              "#d8576b"
             ],
             [
              0.6666666666666666,
              "#ed7953"
             ],
             [
              0.7777777777777778,
              "#fb9f3a"
             ],
             [
              0.8888888888888888,
              "#fdca26"
             ],
             [
              1,
              "#f0f921"
             ]
            ],
            "type": "heatmap"
           }
          ],
          "heatmapgl": [
           {
            "colorbar": {
             "outlinewidth": 0,
             "ticks": ""
            },
            "colorscale": [
             [
              0,
              "#0d0887"
             ],
             [
              0.1111111111111111,
              "#46039f"
             ],
             [
              0.2222222222222222,
              "#7201a8"
             ],
             [
              0.3333333333333333,
              "#9c179e"
             ],
             [
              0.4444444444444444,
              "#bd3786"
             ],
             [
              0.5555555555555556,
              "#d8576b"
             ],
             [
              0.6666666666666666,
              "#ed7953"
             ],
             [
              0.7777777777777778,
              "#fb9f3a"
             ],
             [
              0.8888888888888888,
              "#fdca26"
             ],
             [
              1,
              "#f0f921"
             ]
            ],
            "type": "heatmapgl"
           }
          ],
          "histogram": [
           {
            "marker": {
             "pattern": {
              "fillmode": "overlay",
              "size": 10,
              "solidity": 0.2
             }
            },
            "type": "histogram"
           }
          ],
          "histogram2d": [
           {
            "colorbar": {
             "outlinewidth": 0,
             "ticks": ""
            },
            "colorscale": [
             [
              0,
              "#0d0887"
             ],
             [
              0.1111111111111111,
              "#46039f"
             ],
             [
              0.2222222222222222,
              "#7201a8"
             ],
             [
              0.3333333333333333,
              "#9c179e"
             ],
             [
              0.4444444444444444,
              "#bd3786"
             ],
             [
              0.5555555555555556,
              "#d8576b"
             ],
             [
              0.6666666666666666,
              "#ed7953"
             ],
             [
              0.7777777777777778,
              "#fb9f3a"
             ],
             [
              0.8888888888888888,
              "#fdca26"
             ],
             [
              1,
              "#f0f921"
             ]
            ],
            "type": "histogram2d"
           }
          ],
          "histogram2dcontour": [
           {
            "colorbar": {
             "outlinewidth": 0,
             "ticks": ""
            },
            "colorscale": [
             [
              0,
              "#0d0887"
             ],
             [
              0.1111111111111111,
              "#46039f"
             ],
             [
              0.2222222222222222,
              "#7201a8"
             ],
             [
              0.3333333333333333,
              "#9c179e"
             ],
             [
              0.4444444444444444,
              "#bd3786"
             ],
             [
              0.5555555555555556,
              "#d8576b"
             ],
             [
              0.6666666666666666,
              "#ed7953"
             ],
             [
              0.7777777777777778,
              "#fb9f3a"
             ],
             [
              0.8888888888888888,
              "#fdca26"
             ],
             [
              1,
              "#f0f921"
             ]
            ],
            "type": "histogram2dcontour"
           }
          ],
          "mesh3d": [
           {
            "colorbar": {
             "outlinewidth": 0,
             "ticks": ""
            },
            "type": "mesh3d"
           }
          ],
          "parcoords": [
           {
            "line": {
             "colorbar": {
              "outlinewidth": 0,
              "ticks": ""
             }
            },
            "type": "parcoords"
           }
          ],
          "pie": [
           {
            "automargin": true,
            "type": "pie"
           }
          ],
          "scatter": [
           {
            "fillpattern": {
             "fillmode": "overlay",
             "size": 10,
             "solidity": 0.2
            },
            "type": "scatter"
           }
          ],
          "scatter3d": [
           {
            "line": {
             "colorbar": {
              "outlinewidth": 0,
              "ticks": ""
             }
            },
            "marker": {
             "colorbar": {
              "outlinewidth": 0,
              "ticks": ""
             }
            },
            "type": "scatter3d"
           }
          ],
          "scattercarpet": [
           {
            "marker": {
             "colorbar": {
              "outlinewidth": 0,
              "ticks": ""
             }
            },
            "type": "scattercarpet"
           }
          ],
          "scattergeo": [
           {
            "marker": {
             "colorbar": {
              "outlinewidth": 0,
              "ticks": ""
             }
            },
            "type": "scattergeo"
           }
          ],
          "scattergl": [
           {
            "marker": {
             "colorbar": {
              "outlinewidth": 0,
              "ticks": ""
             }
            },
            "type": "scattergl"
           }
          ],
          "scattermapbox": [
           {
            "marker": {
             "colorbar": {
              "outlinewidth": 0,
              "ticks": ""
             }
            },
            "type": "scattermapbox"
           }
          ],
          "scatterpolar": [
           {
            "marker": {
             "colorbar": {
              "outlinewidth": 0,
              "ticks": ""
             }
            },
            "type": "scatterpolar"
           }
          ],
          "scatterpolargl": [
           {
            "marker": {
             "colorbar": {
              "outlinewidth": 0,
              "ticks": ""
             }
            },
            "type": "scatterpolargl"
           }
          ],
          "scatterternary": [
           {
            "marker": {
             "colorbar": {
              "outlinewidth": 0,
              "ticks": ""
             }
            },
            "type": "scatterternary"
           }
          ],
          "surface": [
           {
            "colorbar": {
             "outlinewidth": 0,
             "ticks": ""
            },
            "colorscale": [
             [
              0,
              "#0d0887"
             ],
             [
              0.1111111111111111,
              "#46039f"
             ],
             [
              0.2222222222222222,
              "#7201a8"
             ],
             [
              0.3333333333333333,
              "#9c179e"
             ],
             [
              0.4444444444444444,
              "#bd3786"
             ],
             [
              0.5555555555555556,
              "#d8576b"
             ],
             [
              0.6666666666666666,
              "#ed7953"
             ],
             [
              0.7777777777777778,
              "#fb9f3a"
             ],
             [
              0.8888888888888888,
              "#fdca26"
             ],
             [
              1,
              "#f0f921"
             ]
            ],
            "type": "surface"
           }
          ],
          "table": [
           {
            "cells": {
             "fill": {
              "color": "#EBF0F8"
             },
             "line": {
              "color": "white"
             }
            },
            "header": {
             "fill": {
              "color": "#C8D4E3"
             },
             "line": {
              "color": "white"
             }
            },
            "type": "table"
           }
          ]
         },
         "layout": {
          "annotationdefaults": {
           "arrowcolor": "#2a3f5f",
           "arrowhead": 0,
           "arrowwidth": 1
          },
          "autotypenumbers": "strict",
          "coloraxis": {
           "colorbar": {
            "outlinewidth": 0,
            "ticks": ""
           }
          },
          "colorscale": {
           "diverging": [
            [
             0,
             "#8e0152"
            ],
            [
             0.1,
             "#c51b7d"
            ],
            [
             0.2,
             "#de77ae"
            ],
            [
             0.3,
             "#f1b6da"
            ],
            [
             0.4,
             "#fde0ef"
            ],
            [
             0.5,
             "#f7f7f7"
            ],
            [
             0.6,
             "#e6f5d0"
            ],
            [
             0.7,
             "#b8e186"
            ],
            [
             0.8,
             "#7fbc41"
            ],
            [
             0.9,
             "#4d9221"
            ],
            [
             1,
             "#276419"
            ]
           ],
           "sequential": [
            [
             0,
             "#0d0887"
            ],
            [
             0.1111111111111111,
             "#46039f"
            ],
            [
             0.2222222222222222,
             "#7201a8"
            ],
            [
             0.3333333333333333,
             "#9c179e"
            ],
            [
             0.4444444444444444,
             "#bd3786"
            ],
            [
             0.5555555555555556,
             "#d8576b"
            ],
            [
             0.6666666666666666,
             "#ed7953"
            ],
            [
             0.7777777777777778,
             "#fb9f3a"
            ],
            [
             0.8888888888888888,
             "#fdca26"
            ],
            [
             1,
             "#f0f921"
            ]
           ],
           "sequentialminus": [
            [
             0,
             "#0d0887"
            ],
            [
             0.1111111111111111,
             "#46039f"
            ],
            [
             0.2222222222222222,
             "#7201a8"
            ],
            [
             0.3333333333333333,
             "#9c179e"
            ],
            [
             0.4444444444444444,
             "#bd3786"
            ],
            [
             0.5555555555555556,
             "#d8576b"
            ],
            [
             0.6666666666666666,
             "#ed7953"
            ],
            [
             0.7777777777777778,
             "#fb9f3a"
            ],
            [
             0.8888888888888888,
             "#fdca26"
            ],
            [
             1,
             "#f0f921"
            ]
           ]
          },
          "colorway": [
           "#636efa",
           "#EF553B",
           "#00cc96",
           "#ab63fa",
           "#FFA15A",
           "#19d3f3",
           "#FF6692",
           "#B6E880",
           "#FF97FF",
           "#FECB52"
          ],
          "font": {
           "color": "#2a3f5f"
          },
          "geo": {
           "bgcolor": "white",
           "lakecolor": "white",
           "landcolor": "#E5ECF6",
           "showlakes": true,
           "showland": true,
           "subunitcolor": "white"
          },
          "hoverlabel": {
           "align": "left"
          },
          "hovermode": "closest",
          "mapbox": {
           "style": "light"
          },
          "paper_bgcolor": "white",
          "plot_bgcolor": "#E5ECF6",
          "polar": {
           "angularaxis": {
            "gridcolor": "white",
            "linecolor": "white",
            "ticks": ""
           },
           "bgcolor": "#E5ECF6",
           "radialaxis": {
            "gridcolor": "white",
            "linecolor": "white",
            "ticks": ""
           }
          },
          "scene": {
           "xaxis": {
            "backgroundcolor": "#E5ECF6",
            "gridcolor": "white",
            "gridwidth": 2,
            "linecolor": "white",
            "showbackground": true,
            "ticks": "",
            "zerolinecolor": "white"
           },
           "yaxis": {
            "backgroundcolor": "#E5ECF6",
            "gridcolor": "white",
            "gridwidth": 2,
            "linecolor": "white",
            "showbackground": true,
            "ticks": "",
            "zerolinecolor": "white"
           },
           "zaxis": {
            "backgroundcolor": "#E5ECF6",
            "gridcolor": "white",
            "gridwidth": 2,
            "linecolor": "white",
            "showbackground": true,
            "ticks": "",
            "zerolinecolor": "white"
           }
          },
          "shapedefaults": {
           "line": {
            "color": "#2a3f5f"
           }
          },
          "ternary": {
           "aaxis": {
            "gridcolor": "white",
            "linecolor": "white",
            "ticks": ""
           },
           "baxis": {
            "gridcolor": "white",
            "linecolor": "white",
            "ticks": ""
           },
           "bgcolor": "#E5ECF6",
           "caxis": {
            "gridcolor": "white",
            "linecolor": "white",
            "ticks": ""
           }
          },
          "title": {
           "x": 0.05
          },
          "xaxis": {
           "automargin": true,
           "gridcolor": "white",
           "linecolor": "white",
           "ticks": "",
           "title": {
            "standoff": 15
           },
           "zerolinecolor": "white",
           "zerolinewidth": 2
          },
          "yaxis": {
           "automargin": true,
           "gridcolor": "white",
           "linecolor": "white",
           "ticks": "",
           "title": {
            "standoff": 15
           },
           "zerolinecolor": "white",
           "zerolinewidth": 2
          }
         }
        },
        "title": {
         "text": "Candlestick Chart"
        },
        "xaxis": {
         "rangeslider": {
          "visible": false
         },
         "title": {
          "text": "Date"
         }
        },
        "yaxis": {
         "title": {
          "text": "Price"
         }
        }
       }
      },
      "text/html": [
       "<div>                            <div id=\"e867aa67-26af-47f8-b29e-93af1e0ae202\" class=\"plotly-graph-div\" style=\"height:525px; width:100%;\"></div>            <script type=\"text/javascript\">                require([\"plotly\"], function(Plotly) {                    window.PLOTLYENV=window.PLOTLYENV || {};                                    if (document.getElementById(\"e867aa67-26af-47f8-b29e-93af1e0ae202\")) {                    Plotly.newPlot(                        \"e867aa67-26af-47f8-b29e-93af1e0ae202\",                        [{\"close\":[110,105,115,120,115],\"high\":[120,115,125,120,125],\"low\":[90,105,100,110,115],\"open\":[100,110,105,115,120],\"x\":[\"2022-01-01T00:00:00\",\"2022-01-02T00:00:00\",\"2022-01-03T00:00:00\",\"2022-01-04T00:00:00\",\"2022-01-05T00:00:00\"],\"type\":\"candlestick\"}],                        {\"template\":{\"data\":{\"histogram2dcontour\":[{\"type\":\"histogram2dcontour\",\"colorbar\":{\"outlinewidth\":0,\"ticks\":\"\"},\"colorscale\":[[0.0,\"#0d0887\"],[0.1111111111111111,\"#46039f\"],[0.2222222222222222,\"#7201a8\"],[0.3333333333333333,\"#9c179e\"],[0.4444444444444444,\"#bd3786\"],[0.5555555555555556,\"#d8576b\"],[0.6666666666666666,\"#ed7953\"],[0.7777777777777778,\"#fb9f3a\"],[0.8888888888888888,\"#fdca26\"],[1.0,\"#f0f921\"]]}],\"choropleth\":[{\"type\":\"choropleth\",\"colorbar\":{\"outlinewidth\":0,\"ticks\":\"\"}}],\"histogram2d\":[{\"type\":\"histogram2d\",\"colorbar\":{\"outlinewidth\":0,\"ticks\":\"\"},\"colorscale\":[[0.0,\"#0d0887\"],[0.1111111111111111,\"#46039f\"],[0.2222222222222222,\"#7201a8\"],[0.3333333333333333,\"#9c179e\"],[0.4444444444444444,\"#bd3786\"],[0.5555555555555556,\"#d8576b\"],[0.6666666666666666,\"#ed7953\"],[0.7777777777777778,\"#fb9f3a\"],[0.8888888888888888,\"#fdca26\"],[1.0,\"#f0f921\"]]}],\"heatmap\":[{\"type\":\"heatmap\",\"colorbar\":{\"outlinewidth\":0,\"ticks\":\"\"},\"colorscale\":[[0.0,\"#0d0887\"],[0.1111111111111111,\"#46039f\"],[0.2222222222222222,\"#7201a8\"],[0.3333333333333333,\"#9c179e\"],[0.4444444444444444,\"#bd3786\"],[0.5555555555555556,\"#d8576b\"],[0.6666666666666666,\"#ed7953\"],[0.7777777777777778,\"#fb9f3a\"],[0.8888888888888888,\"#fdca26\"],[1.0,\"#f0f921\"]]}],\"heatmapgl\":[{\"type\":\"heatmapgl\",\"colorbar\":{\"outlinewidth\":0,\"ticks\":\"\"},\"colorscale\":[[0.0,\"#0d0887\"],[0.1111111111111111,\"#46039f\"],[0.2222222222222222,\"#7201a8\"],[0.3333333333333333,\"#9c179e\"],[0.4444444444444444,\"#bd3786\"],[0.5555555555555556,\"#d8576b\"],[0.6666666666666666,\"#ed7953\"],[0.7777777777777778,\"#fb9f3a\"],[0.8888888888888888,\"#fdca26\"],[1.0,\"#f0f921\"]]}],\"contourcarpet\":[{\"type\":\"contourcarpet\",\"colorbar\":{\"outlinewidth\":0,\"ticks\":\"\"}}],\"contour\":[{\"type\":\"contour\",\"colorbar\":{\"outlinewidth\":0,\"ticks\":\"\"},\"colorscale\":[[0.0,\"#0d0887\"],[0.1111111111111111,\"#46039f\"],[0.2222222222222222,\"#7201a8\"],[0.3333333333333333,\"#9c179e\"],[0.4444444444444444,\"#bd3786\"],[0.5555555555555556,\"#d8576b\"],[0.6666666666666666,\"#ed7953\"],[0.7777777777777778,\"#fb9f3a\"],[0.8888888888888888,\"#fdca26\"],[1.0,\"#f0f921\"]]}],\"surface\":[{\"type\":\"surface\",\"colorbar\":{\"outlinewidth\":0,\"ticks\":\"\"},\"colorscale\":[[0.0,\"#0d0887\"],[0.1111111111111111,\"#46039f\"],[0.2222222222222222,\"#7201a8\"],[0.3333333333333333,\"#9c179e\"],[0.4444444444444444,\"#bd3786\"],[0.5555555555555556,\"#d8576b\"],[0.6666666666666666,\"#ed7953\"],[0.7777777777777778,\"#fb9f3a\"],[0.8888888888888888,\"#fdca26\"],[1.0,\"#f0f921\"]]}],\"mesh3d\":[{\"type\":\"mesh3d\",\"colorbar\":{\"outlinewidth\":0,\"ticks\":\"\"}}],\"scatter\":[{\"fillpattern\":{\"fillmode\":\"overlay\",\"size\":10,\"solidity\":0.2},\"type\":\"scatter\"}],\"parcoords\":[{\"type\":\"parcoords\",\"line\":{\"colorbar\":{\"outlinewidth\":0,\"ticks\":\"\"}}}],\"scatterpolargl\":[{\"type\":\"scatterpolargl\",\"marker\":{\"colorbar\":{\"outlinewidth\":0,\"ticks\":\"\"}}}],\"bar\":[{\"error_x\":{\"color\":\"#2a3f5f\"},\"error_y\":{\"color\":\"#2a3f5f\"},\"marker\":{\"line\":{\"color\":\"#E5ECF6\",\"width\":0.5},\"pattern\":{\"fillmode\":\"overlay\",\"size\":10,\"solidity\":0.2}},\"type\":\"bar\"}],\"scattergeo\":[{\"type\":\"scattergeo\",\"marker\":{\"colorbar\":{\"outlinewidth\":0,\"ticks\":\"\"}}}],\"scatterpolar\":[{\"type\":\"scatterpolar\",\"marker\":{\"colorbar\":{\"outlinewidth\":0,\"ticks\":\"\"}}}],\"histogram\":[{\"marker\":{\"pattern\":{\"fillmode\":\"overlay\",\"size\":10,\"solidity\":0.2}},\"type\":\"histogram\"}],\"scattergl\":[{\"type\":\"scattergl\",\"marker\":{\"colorbar\":{\"outlinewidth\":0,\"ticks\":\"\"}}}],\"scatter3d\":[{\"type\":\"scatter3d\",\"line\":{\"colorbar\":{\"outlinewidth\":0,\"ticks\":\"\"}},\"marker\":{\"colorbar\":{\"outlinewidth\":0,\"ticks\":\"\"}}}],\"scattermapbox\":[{\"type\":\"scattermapbox\",\"marker\":{\"colorbar\":{\"outlinewidth\":0,\"ticks\":\"\"}}}],\"scatterternary\":[{\"type\":\"scatterternary\",\"marker\":{\"colorbar\":{\"outlinewidth\":0,\"ticks\":\"\"}}}],\"scattercarpet\":[{\"type\":\"scattercarpet\",\"marker\":{\"colorbar\":{\"outlinewidth\":0,\"ticks\":\"\"}}}],\"carpet\":[{\"aaxis\":{\"endlinecolor\":\"#2a3f5f\",\"gridcolor\":\"white\",\"linecolor\":\"white\",\"minorgridcolor\":\"white\",\"startlinecolor\":\"#2a3f5f\"},\"baxis\":{\"endlinecolor\":\"#2a3f5f\",\"gridcolor\":\"white\",\"linecolor\":\"white\",\"minorgridcolor\":\"white\",\"startlinecolor\":\"#2a3f5f\"},\"type\":\"carpet\"}],\"table\":[{\"cells\":{\"fill\":{\"color\":\"#EBF0F8\"},\"line\":{\"color\":\"white\"}},\"header\":{\"fill\":{\"color\":\"#C8D4E3\"},\"line\":{\"color\":\"white\"}},\"type\":\"table\"}],\"barpolar\":[{\"marker\":{\"line\":{\"color\":\"#E5ECF6\",\"width\":0.5},\"pattern\":{\"fillmode\":\"overlay\",\"size\":10,\"solidity\":0.2}},\"type\":\"barpolar\"}],\"pie\":[{\"automargin\":true,\"type\":\"pie\"}]},\"layout\":{\"autotypenumbers\":\"strict\",\"colorway\":[\"#636efa\",\"#EF553B\",\"#00cc96\",\"#ab63fa\",\"#FFA15A\",\"#19d3f3\",\"#FF6692\",\"#B6E880\",\"#FF97FF\",\"#FECB52\"],\"font\":{\"color\":\"#2a3f5f\"},\"hovermode\":\"closest\",\"hoverlabel\":{\"align\":\"left\"},\"paper_bgcolor\":\"white\",\"plot_bgcolor\":\"#E5ECF6\",\"polar\":{\"bgcolor\":\"#E5ECF6\",\"angularaxis\":{\"gridcolor\":\"white\",\"linecolor\":\"white\",\"ticks\":\"\"},\"radialaxis\":{\"gridcolor\":\"white\",\"linecolor\":\"white\",\"ticks\":\"\"}},\"ternary\":{\"bgcolor\":\"#E5ECF6\",\"aaxis\":{\"gridcolor\":\"white\",\"linecolor\":\"white\",\"ticks\":\"\"},\"baxis\":{\"gridcolor\":\"white\",\"linecolor\":\"white\",\"ticks\":\"\"},\"caxis\":{\"gridcolor\":\"white\",\"linecolor\":\"white\",\"ticks\":\"\"}},\"coloraxis\":{\"colorbar\":{\"outlinewidth\":0,\"ticks\":\"\"}},\"colorscale\":{\"sequential\":[[0.0,\"#0d0887\"],[0.1111111111111111,\"#46039f\"],[0.2222222222222222,\"#7201a8\"],[0.3333333333333333,\"#9c179e\"],[0.4444444444444444,\"#bd3786\"],[0.5555555555555556,\"#d8576b\"],[0.6666666666666666,\"#ed7953\"],[0.7777777777777778,\"#fb9f3a\"],[0.8888888888888888,\"#fdca26\"],[1.0,\"#f0f921\"]],\"sequentialminus\":[[0.0,\"#0d0887\"],[0.1111111111111111,\"#46039f\"],[0.2222222222222222,\"#7201a8\"],[0.3333333333333333,\"#9c179e\"],[0.4444444444444444,\"#bd3786\"],[0.5555555555555556,\"#d8576b\"],[0.6666666666666666,\"#ed7953\"],[0.7777777777777778,\"#fb9f3a\"],[0.8888888888888888,\"#fdca26\"],[1.0,\"#f0f921\"]],\"diverging\":[[0,\"#8e0152\"],[0.1,\"#c51b7d\"],[0.2,\"#de77ae\"],[0.3,\"#f1b6da\"],[0.4,\"#fde0ef\"],[0.5,\"#f7f7f7\"],[0.6,\"#e6f5d0\"],[0.7,\"#b8e186\"],[0.8,\"#7fbc41\"],[0.9,\"#4d9221\"],[1,\"#276419\"]]},\"xaxis\":{\"gridcolor\":\"white\",\"linecolor\":\"white\",\"ticks\":\"\",\"title\":{\"standoff\":15},\"zerolinecolor\":\"white\",\"automargin\":true,\"zerolinewidth\":2},\"yaxis\":{\"gridcolor\":\"white\",\"linecolor\":\"white\",\"ticks\":\"\",\"title\":{\"standoff\":15},\"zerolinecolor\":\"white\",\"automargin\":true,\"zerolinewidth\":2},\"scene\":{\"xaxis\":{\"backgroundcolor\":\"#E5ECF6\",\"gridcolor\":\"white\",\"linecolor\":\"white\",\"showbackground\":true,\"ticks\":\"\",\"zerolinecolor\":\"white\",\"gridwidth\":2},\"yaxis\":{\"backgroundcolor\":\"#E5ECF6\",\"gridcolor\":\"white\",\"linecolor\":\"white\",\"showbackground\":true,\"ticks\":\"\",\"zerolinecolor\":\"white\",\"gridwidth\":2},\"zaxis\":{\"backgroundcolor\":\"#E5ECF6\",\"gridcolor\":\"white\",\"linecolor\":\"white\",\"showbackground\":true,\"ticks\":\"\",\"zerolinecolor\":\"white\",\"gridwidth\":2}},\"shapedefaults\":{\"line\":{\"color\":\"#2a3f5f\"}},\"annotationdefaults\":{\"arrowcolor\":\"#2a3f5f\",\"arrowhead\":0,\"arrowwidth\":1},\"geo\":{\"bgcolor\":\"white\",\"landcolor\":\"#E5ECF6\",\"subunitcolor\":\"white\",\"showland\":true,\"showlakes\":true,\"lakecolor\":\"white\"},\"title\":{\"x\":0.05},\"mapbox\":{\"style\":\"light\"}}},\"xaxis\":{\"rangeslider\":{\"visible\":false},\"title\":{\"text\":\"Date\"}},\"title\":{\"text\":\"Candlestick Chart\"},\"yaxis\":{\"title\":{\"text\":\"Price\"}}},                        {\"responsive\": true}                    ).then(function(){\n",
       "                            \n",
       "var gd = document.getElementById('e867aa67-26af-47f8-b29e-93af1e0ae202');\n",
       "var x = new MutationObserver(function (mutations, observer) {{\n",
       "        var display = window.getComputedStyle(gd).display;\n",
       "        if (!display || display === 'none') {{\n",
       "            console.log([gd, 'removed!']);\n",
       "            Plotly.purge(gd);\n",
       "            observer.disconnect();\n",
       "        }}\n",
       "}});\n",
       "\n",
       "// Listen for the removal of the full notebook cells\n",
       "var notebookContainer = gd.closest('#notebook-container');\n",
       "if (notebookContainer) {{\n",
       "    x.observe(notebookContainer, {childList: true});\n",
       "}}\n",
       "\n",
       "// Listen for the clearing of the current output cell\n",
       "var outputEl = gd.closest('.output');\n",
       "if (outputEl) {{\n",
       "    x.observe(outputEl, {childList: true});\n",
       "}}\n",
       "\n",
       "                        })                };                });            </script>        </div>"
      ]
     },
     "metadata": {},
     "output_type": "display_data"
    }
   ],
   "source": [
    "import plotly.graph_objects as go\n",
    "import pandas as pd\n",
    "\n",
    "# Sample data\n",
    "data = {\n",
    "    'Date': ['2022-01-01', '2022-01-02', '2022-01-03', '2022-01-04', '2022-01-05'],\n",
    "    'Open': [100, 110, 105, 115, 120],\n",
    "    'High': [120, 115, 125, 120, 125],\n",
    "    'Low': [90, 105, 100, 110, 115],\n",
    "    'Close': [110, 105, 115, 120, 115]\n",
    "}\n",
    "\n",
    "# Create a DataFrame\n",
    "df = pd.DataFrame(data)\n",
    "df['Date'] = pd.to_datetime(df['Date'])\n",
    "\n",
    "# Create the candlestick chart\n",
    "fig = go.Figure(data=[go.Candlestick(x=df['Date'],\n",
    "                                     open=df['Open'],\n",
    "                                     high=df['High'],\n",
    "                                     low=df['Low'],\n",
    "                                     close=df['Close'])])\n",
    "\n",
    "# Update layout\n",
    "fig.update_layout(xaxis_rangeslider_visible=False,\n",
    "                  title='Candlestick Chart',\n",
    "                  xaxis_title='Date',\n",
    "                  yaxis_title='Price')\n",
    "\n",
    "# Show the chart\n",
    "fig.show()\n"
   ]
  },
  {
   "cell_type": "code",
   "execution_count": 41,
   "id": "248744fa",
   "metadata": {},
   "outputs": [
    {
     "data": {
      "image/png": "[encoded data removed]",
      "text/plain": [
       "<Figure size 640x480 with 1 Axes>"
      ]
     },
     "metadata": {},
     "output_type": "display_data"
    }
   ],
   "source": [
    "import matplotlib.pyplot as plt\n",
    "\n",
    "#Data\n",
    "x = [1, 2, 3, 4, 5]\n",
    "y = [2, 3, 5, 7, 11]\n",
    "\n",
    "#Plot the data\n",
    "plt.plot( y, 'ro--', label='Prime Numbers')\n",
    "\n",
    "#Customize the plot\n",
    "plt.xlabel('X')\n",
    "plt.ylabel('Y')\n",
    "plt.title('Line Plot')\n",
    "plt.legend()\n",
    "\n",
    "#Show the plot\n",
    "plt.show()\n"
   ]
  },
  {
   "cell_type": "code",
   "execution_count": 47,
   "id": "8e496bde",
   "metadata": {},
   "outputs": [],
   "source": [
    "class circle(object):\n",
    "    def __init__(self,radius,color): #this is constructor method\n",
    "        self.radius=radius\n",
    "        self.color=color\n",
    "    def add_radius(self,r): #this is Instance method\n",
    "        self.radius=self.radius+r  \n",
    "        return self.radius"
   ]
  },
  {
   "cell_type": "code",
   "execution_count": 67,
   "id": "2ae78f77",
   "metadata": {},
   "outputs": [
    {
     "name": "stdout",
     "output_type": "stream",
     "text": [
      "2\n",
      "7\n",
      "8\n"
     ]
    },
    {
     "data": {
      "text/plain": [
       "['__class__',\n",
       " '__delattr__',\n",
       " '__dict__',\n",
       " '__dir__',\n",
       " '__doc__',\n",
       " '__eq__',\n",
       " '__format__',\n",
       " '__ge__',\n",
       " '__getattribute__',\n",
       " '__getstate__',\n",
       " '__gt__',\n",
       " '__hash__',\n",
       " '__init__',\n",
       " '__init_subclass__',\n",
       " '__le__',\n",
       " '__lt__',\n",
       " '__module__',\n",
       " '__ne__',\n",
       " '__new__',\n",
       " '__reduce__',\n",
       " '__reduce_ex__',\n",
       " '__repr__',\n",
       " '__setattr__',\n",
       " '__sizeof__',\n",
       " '__str__',\n",
       " '__subclasshook__',\n",
       " '__weakref__',\n",
       " 'add_radius',\n",
       " 'color',\n",
       " 'radius']"
      ]
     },
     "execution_count": 67,
     "metadata": {},
     "output_type": "execute_result"
    }
   ],
   "source": [
    "c1=circle(2,'red') #creating object instances\n",
    "print(c1.radius)\n",
    "print(c1.add_radius(5)) #object.method\n",
    "c1.radius=3\n",
    "print(c1.add_radius(5)) #object.method\n",
    "dir(c1)"
   ]
  },
  {
   "cell_type": "code",
   "execution_count": 57,
   "id": "320f93f6",
   "metadata": {},
   "outputs": [],
   "source": [
    "class Car():\n",
    "    max_speed=120\n",
    "    def __init__(self,make,model,color,speed=10):\n",
    "        self.make=make\n",
    "        self.model=model\n",
    "        self.color=color\n",
    "        self.speed=speed\n",
    "        \n",
    "    def accelerate(self,acceleration):\n",
    "        if (self.speed+acceleration<=Car.max_speed):\n",
    "            self.speed+=acceleration\n",
    "        else:\n",
    "            self.speed=Car.max_speed\n",
    "            \n",
    "    def get_speed(self):\n",
    "        return self.speed"
   ]
  },
  {
   "cell_type": "code",
   "execution_count": 61,
   "id": "593afa8f",
   "metadata": {},
   "outputs": [
    {
     "name": "stdout",
     "output_type": "stream",
     "text": [
      "Toyota Camry is accelarting at 30 km/h.\n",
      "Honda Civic is accelarting at 50 km/h.\n"
     ]
    }
   ],
   "source": [
    "car1=Car(\"Toyota\",\"Camry\",\"Blue\")\n",
    "car2=Car(\"Honda\",\"Civic\",\"Red\")\n",
    "car1.accelerate(20)\n",
    "car2.accelerate(40)\n",
    "print(f\"{car1.make} {car1.model} is accelarting at {car1.get_speed()} km/h.\") #curly braces becuse you are accepting input\n",
    "print(f\"{car2.make} {car2.model} is accelarting at {car2.get_speed()} km/h.\")"
   ]
  },
  {
   "cell_type": "code",
   "execution_count": 71,
   "id": "609071f2",
   "metadata": {},
   "outputs": [
    {
     "name": "stdout",
     "output_type": "stream",
     "text": [
      "Properties of the vehicle:\n",
      "color: white\n",
      "maximum speed: 200\n",
      "mileage: 20\n",
      "seating capacity: 5\n",
      "Properties of the vehicle:\n",
      "color: white\n",
      "maximum speed: 180\n",
      "mileage: 25\n",
      "seating capacity: 4\n"
     ]
    }
   ],
   "source": [
    "class Vehicle:\n",
    "    color=\"white\"\n",
    "    \n",
    "    def __init__(self,max_speed,mileage):\n",
    "        self.max_speed=max_speed\n",
    "        self.mileage=mileage\n",
    "        self.capacity=None #since no value provided hence can initiate as None or if you do not initiate then also ok\n",
    "        \n",
    "    def seating_capacity(self,capacity):\n",
    "        self.capacity=capacity\n",
    "        \n",
    "    def display_properties(self):\n",
    "        print(\"Properties of the vehicle:\")\n",
    "        print(\"color:\", self.color)\n",
    "        print(\"maximum speed:\", self.max_speed)\n",
    "        print(\"mileage:\", self.mileage)\n",
    "        print(\"seating capacity:\", self.capacity)\n",
    "\n",
    "v1=Vehicle(200,20)\n",
    "v1.seating_capacity(5)\n",
    "v1.display_properties()\n",
    "\n",
    "v2=Vehicle(180,25)\n",
    "v2.seating_capacity(4)\n",
    "v2.display_properties()"
   ]
  },
  {
   "cell_type": "code",
   "execution_count": 83,
   "id": "e0d6be4f",
   "metadata": {},
   "outputs": [
    {
     "ename": "AttributeError",
     "evalue": "'str' object has no attribute 'readline'",
     "output_type": "error",
     "traceback": [
      "\u001b[0;31m---------------------------------------------------------------------------\u001b[0m",
      "\u001b[0;31mAttributeError\u001b[0m                            Traceback (most recent call last)",
      "Cell \u001b[0;32mIn[83], line 4\u001b[0m\n\u001b[1;32m      1\u001b[0m file1\u001b[38;5;241m=\u001b[39m\u001b[38;5;124m'\u001b[39m\u001b[38;5;124mabc fgy gyhh\u001b[39m\u001b[38;5;124m'\u001b[39m\n\u001b[1;32m      2\u001b[0m \u001b[38;5;28;01mfor\u001b[39;00m n \u001b[38;5;129;01min\u001b[39;00m \u001b[38;5;28mrange\u001b[39m(\u001b[38;5;241m0\u001b[39m, \u001b[38;5;241m2\u001b[39m):\n\u001b[0;32m----> 4\u001b[0m     \u001b[38;5;28mprint\u001b[39m(file1\u001b[38;5;241m.\u001b[39mreadline())\n",
      "\u001b[0;31mAttributeError\u001b[0m: 'str' object has no attribute 'readline'"
     ]
    }
   ],
   "source": [
    "file1='abc fgy gyhh'\n",
    "for n in range(0, 2):\n",
    "\n",
    "    print(file1.readline())"
   ]
  },
  {
   "cell_type": "code",
   "execution_count": null,
   "id": "2bbf62ee",
   "metadata": {},
   "outputs": [],
   "source": [
    "def column_summary(df):\n",
    "    summary_data = []\n",
    "    \n",
    "    for col_name in df.columns:\n",
    "        col_dtype = df[col_name].dtype\n",
    "        num_of_nulls = df[col_name].isnull().sum()\n",
    "        num_of_non_nulls = df[col_name].notnull().sum()\n",
    "        num_of_distinct_values = df[col_name].nunique()\n",
    "        \n",
    "        if num_of_distinct_values <= 10:\n",
    "            distinct_values_counts = df[col_name].value_counts().to_dict()\n",
    "        else:\n",
    "            top_10_values_counts = df[col_name].value_counts().head(10).to_dict()\n",
    "            distinct_values_counts = {k: v for k, v in sorted(top_10_values_counts.items(), key=lambda item: item[1], reverse=True)}\n",
    "\n",
    "        summary_data.append({\n",
    "            'col_name': col_name,\n",
    "            'col_dtype': col_dtype,\n",
    "            'num_of_nulls': num_of_nulls,\n",
    "            'num_of_non_nulls': num_of_non_nulls,\n",
    "            'num_of_distinct_values': num_of_distinct_values,\n",
    "            'distinct_values_counts': distinct_values_counts\n",
    "        })\n",
    "    \n",
    "    summary_df = pd.DataFrame(summary_data)\n",
    "    return summary_df\n",
    "\n",
    "# Example usage:\n",
    "# Assuming df is your DataFrame\n",
    "summary_df = column_summary(df)\n",
    "display(summary_df)"
   ]
  },
  {
   "cell_type": "code",
   "execution_count": 2,
   "id": "fe524bfb",
   "metadata": {},
   "outputs": [
    {
     "name": "stdout",
     "output_type": "stream",
     "text": [
      "1 2\n"
     ]
    }
   ],
   "source": [
    "def my_function(a, b):\n",
    "    print(a, b)\n",
    "\n",
    "#my_function(a=1, b=2)          # This is equivalent to my_function(1, 2)\n",
    "my_function(**{'a': 1, 'b': 2})# This is also equivalent to my_function(1, 2)\n"
   ]
  },
  {
   "cell_type": "code",
   "execution_count": 7,
   "id": "86a06ef4",
   "metadata": {},
   "outputs": [],
   "source": [
    "import matplotlib.pyplot as plt\n",
    "import scipy.stats as stat\n",
    "import pylab\n",
    "import numpy as np\n",
    "import seaborn as sns\n",
    "def plot_data(sample):\n",
    "    plt.figure(figsize=(10,6))\n",
    "    plt.subplot(1,2,1)\n",
    "    sns.histplot(sample)\n",
    "    plt.subplot(1,2,2)\n",
    "    stat.probplot(sample,dist='norm',plot=pylab)\n",
    "    plt.show()"
   ]
  },
  {
   "cell_type": "code",
   "execution_count": 8,
   "id": "74a1d2e8",
   "metadata": {},
   "outputs": [
    {
     "data": {
      "image/png": "[encoded data removed]",
      "text/plain": [
       "<Figure size 1000x600 with 2 Axes>"
      ]
     },
     "metadata": {},
     "output_type": "display_data"
    }
   ],
   "source": [
    "s=np.random.normal(0.5,0.2,1000)\n",
    "plot_data(s)"
   ]
  },
  {
   "cell_type": "code",
   "execution_count": 9,
   "id": "beffa04f",
   "metadata": {},
   "outputs": [],
   "source": [
    "import numpy as np\n",
    "\n",
    "# Generate 1000 samples from a Pareto distribution with shape parameter 3\n",
    "samples = np.random.pareto(a=3, size=1000)"
   ]
  },
  {
   "cell_type": "code",
   "execution_count": null,
   "id": "61efc14d",
   "metadata": {},
   "outputs": [],
   "source": []
  }
 ],
 "metadata": {
  "kernelspec": {
   "display_name": "Python 3 (ipykernel)",
   "language": "python",
   "name": "python3"
  },
  "language_info": {
   "codemirror_mode": {
    "name": "ipython",
    "version": 3
   },
   "file_extension": ".py",
   "mimetype": "text/x-python",
   "name": "python",
   "nbconvert_exporter": "python",
   "pygments_lexer": "ipython3",
   "version": "3.11.4"
  }
 },
 "nbformat": 4,
 "nbformat_minor": 5
}
